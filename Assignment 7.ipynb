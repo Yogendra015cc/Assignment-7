{
 "cells": [
  {
   "cell_type": "markdown",
   "id": "6201c58d-f15c-4593-a2bf-edfc7e2c311e",
   "metadata": {},
   "source": [
    "# Assignment 7 (OOPs Assignment 2)"
   ]
  },
  {
   "cell_type": "markdown",
   "id": "66dd4c56-f69e-47b6-b8b0-3213d64d6540",
   "metadata": {},
   "source": [
    "Q1. What is Abstraction in OOps? Explain with an example.\n"
   ]
  },
  {
   "cell_type": "markdown",
   "id": "a692d4a8-1694-4c5d-8102-91bc6f1d7767",
   "metadata": {},
   "source": [
    "Ans. Abstraction is one of the pillars of OOOPs.It helps in simplifying complex entities by focusing on key attributes and behaviors."
   ]
  },
  {
   "cell_type": "code",
   "execution_count": 12,
   "id": "06817533-6afe-455e-af34-d4ddfe946fa5",
   "metadata": {},
   "outputs": [],
   "source": [
    "# for example:\n",
    "import abc\n",
    "class Bank:\n",
    "    \n",
    "    @abc.abstractmethod\n",
    "    def Bank_details(self):\n",
    "        pass\n",
    "    \n",
    "    @abc.abstractmethod\n",
    "    def Bank_account(self):\n",
    "        pass\n",
    "    \n",
    "    @abc.abstractmethod\n",
    "    def Bank_ifsc_code(self):\n",
    "        pass"
   ]
  },
  {
   "cell_type": "code",
   "execution_count": 13,
   "id": "ac254ae4-df60-4ebb-9150-10f46877be57",
   "metadata": {},
   "outputs": [],
   "source": [
    "class PNB(Bank):\n",
    "    \n",
    "    def Bank_account(self):\n",
    "        return \"These details are of PNB bank accounts\"\n",
    "    \n",
    "    def Bank_ifsc_code(self):\n",
    "        return \"These assignment are of PNB bank ifsc code\""
   ]
  },
  {
   "cell_type": "code",
   "execution_count": 14,
   "id": "1278221c-e238-42ab-a874-6f993445c5d9",
   "metadata": {},
   "outputs": [],
   "source": [
    "class SBI(Bank):\n",
    "    \n",
    "     def Bank_account(self):\n",
    "        return \"These details are of SBI bank accounts\"\n",
    "    \n",
    "     def Bank_ifsc_code(self):\n",
    "        return \"These assignment are of SBI bank ifsc codwe\""
   ]
  },
  {
   "cell_type": "code",
   "execution_count": 15,
   "id": "617df05c-a0ff-4079-8dc9-a6119ecac485",
   "metadata": {},
   "outputs": [],
   "source": [
    "B1 = PNB()"
   ]
  },
  {
   "cell_type": "code",
   "execution_count": 16,
   "id": "0a97a2e9-d76d-4f9e-b2c7-a9010ba3f3ea",
   "metadata": {},
   "outputs": [],
   "source": [
    "B2 = SBI()"
   ]
  },
  {
   "cell_type": "code",
   "execution_count": 17,
   "id": "d10a47da-4e79-41ff-8561-57fddd159c0c",
   "metadata": {},
   "outputs": [
    {
     "data": {
      "text/plain": [
       "'These details are of PNB bank accounts'"
      ]
     },
     "execution_count": 17,
     "metadata": {},
     "output_type": "execute_result"
    }
   ],
   "source": [
    "B1.Bank_account()"
   ]
  },
  {
   "cell_type": "code",
   "execution_count": 18,
   "id": "9bf18be9-8478-4bc5-90a7-4781ebe96e66",
   "metadata": {},
   "outputs": [
    {
     "data": {
      "text/plain": [
       "'These assignment are of PNB bank ifsc code'"
      ]
     },
     "execution_count": 18,
     "metadata": {},
     "output_type": "execute_result"
    }
   ],
   "source": [
    "B1.Bank_ifsc_code()"
   ]
  },
  {
   "cell_type": "code",
   "execution_count": 19,
   "id": "d555359a-cd6e-4451-96ca-85564b213390",
   "metadata": {},
   "outputs": [],
   "source": [
    "B2.Bank_details()"
   ]
  },
  {
   "cell_type": "code",
   "execution_count": 20,
   "id": "c9564466-1f27-4f29-bd84-cbbfb885707a",
   "metadata": {},
   "outputs": [
    {
     "data": {
      "text/plain": [
       "<bound method Bank.Bank_details of <__main__.PNB object at 0x7f34242b96c0>>"
      ]
     },
     "execution_count": 20,
     "metadata": {},
     "output_type": "execute_result"
    }
   ],
   "source": [
    "B1.Bank_details"
   ]
  },
  {
   "cell_type": "markdown",
   "id": "60c0b18c-cadf-4ad3-98cd-512095bec509",
   "metadata": {},
   "source": [
    "Q2. Differentiate between Abstraction and Encapsulation. Explain with an example.\n"
   ]
  },
  {
   "cell_type": "markdown",
   "id": "5d63357b-08da-461f-8946-3171c35b7aeb",
   "metadata": {},
   "source": [
    "Encapsulation is the method by which we make the data private from user,whereas abstraction helps in simplifying complex entities by focusing on key attributes and behaviors. "
   ]
  },
  {
   "cell_type": "markdown",
   "id": "ee099e1f-2095-452d-9645-dc7bf2bc4eb0",
   "metadata": {},
   "source": [
    "Q3. What is abc module in python? Why is it used?\n"
   ]
  },
  {
   "cell_type": "markdown",
   "id": "9d25de30-5b53-464d-9b72-16e0d421f786",
   "metadata": {},
   "source": [
    "Ans.abc refers to Abstract Base Classes.abc provides tools for creating abstract base classes.These classes define a common interface for subclasses.This also helps in code consistency and to minimise error."
   ]
  },
  {
   "cell_type": "markdown",
   "id": "5232b92f-7cc6-4500-8b30-ff6f0471faa6",
   "metadata": {},
   "source": [
    "Q4. How can we achieve data abstraction?"
   ]
  },
  {
   "cell_type": "markdown",
   "id": "e0fbc23b-ef22-42eb-8945-0df46acc84e7",
   "metadata": {},
   "source": [
    "Ans.We can achieve daat abstraction by following steps:\n",
    "\n",
    "1.First of all we have to make define class with attributes to represent the data we want to abstract.\n",
    "2.keep the private data not available not user.\n",
    "3.Define methods within the class to allow controlled access to the data. These methods can be used to read or modify the data.\n",
    "4.To let users to interact with the data only through the provided methods."
   ]
  },
  {
   "cell_type": "code",
   "execution_count": 21,
   "id": "b3619be9-beab-4ca9-bc40-846bd238d626",
   "metadata": {},
   "outputs": [],
   "source": [
    "# For exampclass BankAccount:\n",
    "    \n",
    "class Bank_Account:  \n",
    "    \n",
    "    def __init__(self, balance):\n",
    "        self._balance = balance  # _balance is a \"protected\" attribute and cannot be accessed or manipulated by the user\n",
    "\n",
    "    def deposit(self, amount):\n",
    "        self._balance += amount\n",
    "\n",
    "    def withdraw(self, amount):\n",
    "        if amount <= self._balance:\n",
    "            self._balance -= amount\n",
    "        else:\n",
    "            print(\"Insufficient funds\")\n",
    "\n",
    "    def get_balance(self):\n",
    "        return self._balance"
   ]
  },
  {
   "cell_type": "code",
   "execution_count": 23,
   "id": "15da82e1-d3a0-4a2f-829e-0f92304c00f4",
   "metadata": {},
   "outputs": [
    {
     "name": "stdout",
     "output_type": "stream",
     "text": [
      "Balance: 1200\n"
     ]
    }
   ],
   "source": [
    "# Creating an instance of BankAccount\n",
    "acc = Bank_Account(1000)\n",
    "\n",
    "# Using methods to interact with data\n",
    "acc.deposit(500)\n",
    "acc.withdraw(300)\n",
    "print(\"Balance:\", acc.get_balance())  "
   ]
  },
  {
   "cell_type": "markdown",
   "id": "0f6b37dd-9907-44e2-bb64-896503cdd546",
   "metadata": {},
   "source": [
    "\n",
    "Q5. Can we create an instance of an abstract class? Explain your answer.\n"
   ]
  },
  {
   "cell_type": "markdown",
   "id": "b036bf11-7d45-4d9e-a78e-91ef104ddae4",
   "metadata": {},
   "source": [
    "Ans. No we can't create an instance of a class directly because it has to be subclassed.It is designed to provide a common structure and behavior for its subclasses."
   ]
  },
  {
   "cell_type": "code",
   "execution_count": null,
   "id": "88e579a7-2325-4fa9-92ee-dbf844cc3873",
   "metadata": {},
   "outputs": [],
   "source": []
  }
 ],
 "metadata": {
  "kernelspec": {
   "display_name": "Python 3 (ipykernel)",
   "language": "python",
   "name": "python3"
  },
  "language_info": {
   "codemirror_mode": {
    "name": "ipython",
    "version": 3
   },
   "file_extension": ".py",
   "mimetype": "text/x-python",
   "name": "python",
   "nbconvert_exporter": "python",
   "pygments_lexer": "ipython3",
   "version": "3.10.8"
  }
 },
 "nbformat": 4,
 "nbformat_minor": 5
}
